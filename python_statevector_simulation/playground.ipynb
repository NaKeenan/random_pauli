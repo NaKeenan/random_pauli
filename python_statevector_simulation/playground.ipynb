{
 "cells": [
  {
   "cell_type": "code",
   "execution_count": 1,
   "metadata": {},
   "outputs": [],
   "source": [
    "import numpy as np\n",
    "import functions as fn\n",
    "from circuit_obj import Circuit"
   ]
  },
  {
   "cell_type": "code",
   "execution_count": 2,
   "metadata": {},
   "outputs": [],
   "source": [
    "# Define your parameter arrays\n",
    "N = 10\n",
    "T = 100\n",
    "circuit_realizations = 10\n",
    "masks_dict = fn.load_mask_memory(N, 2)\n"
   ]
  },
  {
   "cell_type": "code",
   "execution_count": null,
   "metadata": {},
   "outputs": [],
   "source": [
    "def gen_operators(N):\n",
    "    id_ = np.diag([1,1])\n",
    "    sz = np.diag([1,-1])\n",
    "    operators = np.zeros((N, 2**N, 2**N), dtype=np.float64)\n",
    "    for i in range(N):\n",
    "        if operators is None:\n",
    "            ops = [id_] * N\n",
    "            ops[i] = sz\n",
    "            op = reduce(np.kron, ops)"
   ]
  },
  {
   "cell_type": "code",
   "execution_count": null,
   "metadata": {},
   "outputs": [
    {
     "name": "stdout",
     "output_type": "stream",
     "text": [
      "-0.0944 vs -0.1179\n",
      "-0.1377 vs -0.2176\n",
      "-0.0297 vs -0.0243\n",
      "-0.9989 vs -1.0000\n",
      "0.0145 vs 0.0307\n",
      "0.0449 vs 0.0826\n",
      "0.1032 vs 0.1535\n",
      "-0.0185 vs -0.0566\n",
      "0.0196 vs 0.0608\n",
      "-0.0218 vs -0.0477\n"
     ]
    }
   ],
   "source": [
    "from functools import reduce\n",
    "\n",
    "id_ = np.array([1,1])\n",
    "up = np.array([0,1])\n",
    "\n",
    "slow = fn.get_magnetization(st, N)\n",
    "\n",
    "for i in range(N):\n",
    "    st_up = st.copy()\n",
    "    st_dw = st.copy()\n",
    "    ops = [id_] * N\n",
    "    ops[i] = up\n",
    "    up_m = reduce(np.kron, ops)\n",
    "\n",
    "    st_up[up_m == 0] = 0\n",
    "    st_dw[up_m == 1] = 0\n",
    "    \n",
    "    np.dot(psi_0.conj(), np.multiply(2*qubit_n_up_mask-1,psi_0)))\n",
    "    \n",
    "    what_i_get = -(np.sum(np.abs(st_up))**2 - np.sum(np.abs(st_dw))**2) / 2**(N-1)\n",
    "    what_i_expect = slow[i]\n",
    "    print(f'{what_i_get*5/4:.4f} vs {what_i_expect:.4f}')"
   ]
  },
  {
   "cell_type": "code",
   "execution_count": null,
   "metadata": {},
   "outputs": [],
   "source": []
  },
  {
   "cell_type": "code",
   "execution_count": 35,
   "metadata": {},
   "outputs": [
    {
     "data": {
      "text/plain": [
       "array([-0.11793511, -0.21756852, -0.02428051, -1.        ,  0.03074443,\n",
       "        0.08260325,  0.15354246, -0.05657969,  0.06075751, -0.04773024])"
      ]
     },
     "execution_count": 35,
     "metadata": {},
     "output_type": "execute_result"
    }
   ],
   "source": [
    "st = initial_state(N, 3)\n",
    "fn.get_magnetization(st, N)"
   ]
  },
  {
   "cell_type": "code",
   "execution_count": 62,
   "metadata": {},
   "outputs": [],
   "source": [
    "from functools import reduce\n",
    "\n",
    "def get_magnetization(st, N, operators=None):\n",
    "    id_ = np.array([1,1])\n",
    "    sz = np.array([1,-1])\n",
    "    res = np.zeros(N, dtype=np.float64)\n",
    "    for i in range(N):\n",
    "        if operators is None:\n",
    "            ops = [id_] * N\n",
    "            ops[i] = sz\n",
    "            op = reduce(np.kron, ops)\n",
    "        else:\n",
    "            op = operators[i]\n",
    "        res[i] = st.conj().dot(op @ st)\n",
    "    return np.array(res)"
   ]
  },
  {
   "cell_type": "code",
   "execution_count": 7,
   "metadata": {},
   "outputs": [
    {
     "name": "stderr",
     "output_type": "stream",
     "text": [
      "/Users/a.summer/Development_local/phd/random_pauli/python_statevector_simulation/functions.py:658: ComplexWarning: Casting complex values to real discards the imaginary part\n",
      "  res[i] = st.conj().dot(op @ st)\n"
     ]
    },
    {
     "data": {
      "text/plain": [
       "[-1.0, -1.0, -1.0, -1.0, -1.0, -1.0, -1.0, -1.0, -1.0, -1.0]"
      ]
     },
     "execution_count": 7,
     "metadata": {},
     "output_type": "execute_result"
    }
   ],
   "source": [
    "def initial_state(N, n):\n",
    "    \"\"\"\n",
    "    Generate a random state vector on N qubits with spin up at site n\n",
    "    \"\"\"\n",
    "    up = np.array([0, 1])\n",
    "    if n == 0:\n",
    "        rnd_part = np.random.rand(2**(N - 1)) + 1j * np.random.rand(2**(N - 1))\n",
    "        state = np.kron(up, rnd_part)\n",
    "        state /= np.linalg.norm(state)\n",
    "        return state\n",
    "    elif n == N - 1:\n",
    "        rnd_part = np.random.rand(2**(N - 1)) + 1j * np.random.rand(2**(N - 1))\n",
    "        state = np.kron(rnd_part, up)\n",
    "        state /= np.linalg.norm(state)\n",
    "        return state\n",
    "    part1 = np.random.rand(2**(n)) + 1j * np.random.rand(2**(n))\n",
    "    part2 = np.random.rand(2**(N - n - 1)) + 1j * np.random.rand(2**(N - n - 1))\n",
    "    state = np.kron(part1, np.kron(up, part2))\n",
    "    state /= np.linalg.norm(state)\n",
    "    return state\n",
    "\n",
    "# sanity check :\n",
    "[np.round(fn.get_magnetization(initial_state(N, idx), N)[idx]) for idx in range(N)]"
   ]
  },
  {
   "cell_type": "code",
   "execution_count": null,
   "metadata": {},
   "outputs": [
    {
     "name": "stdout",
     "output_type": "stream",
     "text": [
      "Loaded U1 parameters\n"
     ]
    }
   ],
   "source": [
    "\n",
    "circuits = []\n",
    "circuit_realizations_max = 100\n",
    "try:\n",
    "    h_list_all = np.load(f'data/U1_rnd_parameters.npy')\n",
    "    print('Loaded U1 parameters')\n",
    "except FileNotFoundError:\n",
    "    h_list_all = np.random.uniform(-np.pi, np.pi, 5*N*circuit_realizations_max).reshape(circuit_realizations_max, N, 5) \n",
    "    np.save(f'data/U1_rnd_parameters.npy', h_list_all)\n",
    "    print('Generated U1 parameters')\n",
    "        \n",
    "\n",
    "for circuit_realization in range(circuit_realizations):\n",
    "    h_list = h_list_all[circuit_realization]\n",
    "    gates = [fn.gen_u1([*h]) for h in h_list]\n",
    "\n",
    "    order = fn.gen_gates_order(N)    \n",
    "    circuit = Circuit(N=N, gates=gates, order=order)\n",
    "    circuits.append(circuit)\n",
    "    \n",
    "##############################################################################################\n",
    "\n",
    "def compute_circuit(idx ,circuit_real):\n",
    "    circuit = circuits[circuit_real]\n",
    "    state = initial_state(N, idx) # initial_state_test(theta)\n",
    "    return circuit.run(masks_dict, state, T)"
   ]
  },
  {
   "cell_type": "code",
   "execution_count": 14,
   "metadata": {},
   "outputs": [
    {
     "ename": "AttributeError",
     "evalue": "'Circuit' object has no attribute 'operators'",
     "output_type": "error",
     "traceback": [
      "\u001b[0;31m---------------------------------------------------------------------------\u001b[0m",
      "\u001b[0;31mAttributeError\u001b[0m                            Traceback (most recent call last)",
      "Cell \u001b[0;32mIn[14], line 1\u001b[0m\n\u001b[0;32m----> 1\u001b[0m \u001b[43mcompute_circuit\u001b[49m\u001b[43m(\u001b[49m\u001b[38;5;241;43m0\u001b[39;49m\u001b[43m \u001b[49m\u001b[43m,\u001b[49m\u001b[38;5;241;43m0\u001b[39;49m\u001b[43m)\u001b[49m\n",
      "Cell \u001b[0;32mIn[13], line 25\u001b[0m, in \u001b[0;36mcompute_circuit\u001b[0;34m(idx, circuit_real)\u001b[0m\n\u001b[1;32m     23\u001b[0m circuit \u001b[38;5;241m=\u001b[39m circuits[circuit_real]\n\u001b[1;32m     24\u001b[0m state \u001b[38;5;241m=\u001b[39m initial_state(N, idx) \u001b[38;5;66;03m# initial_state_test(theta)\u001b[39;00m\n\u001b[0;32m---> 25\u001b[0m \u001b[38;5;28;01mreturn\u001b[39;00m \u001b[43mcircuit\u001b[49m\u001b[38;5;241;43m.\u001b[39;49m\u001b[43mrun\u001b[49m\u001b[43m(\u001b[49m\u001b[43mmasks_dict\u001b[49m\u001b[43m,\u001b[49m\u001b[43m \u001b[49m\u001b[43mstate\u001b[49m\u001b[43m,\u001b[49m\u001b[43m \u001b[49m\u001b[43mT\u001b[49m\u001b[43m)\u001b[49m\n",
      "File \u001b[0;32m~/Development_local/phd/random_pauli/python_statevector_simulation/circuit_obj.py:50\u001b[0m, in \u001b[0;36mCircuit.run\u001b[0;34m(self, masks_dict, state, T)\u001b[0m\n\u001b[1;32m     46\u001b[0m magn_profile \u001b[38;5;241m=\u001b[39m np\u001b[38;5;241m.\u001b[39mzeros((T, \u001b[38;5;28mself\u001b[39m\u001b[38;5;241m.\u001b[39mN), dtype\u001b[38;5;241m=\u001b[39mnp\u001b[38;5;241m.\u001b[39mfloat64)\n\u001b[1;32m     48\u001b[0m start_time \u001b[38;5;241m=\u001b[39m time\u001b[38;5;241m.\u001b[39mtime()\n\u001b[0;32m---> 50\u001b[0m magn_profile[\u001b[38;5;241m0\u001b[39m] \u001b[38;5;241m=\u001b[39m fn\u001b[38;5;241m.\u001b[39mget_magnetization(state, \u001b[38;5;28mself\u001b[39m\u001b[38;5;241m.\u001b[39mN, \u001b[38;5;28;43mself\u001b[39;49m\u001b[38;5;241;43m.\u001b[39;49m\u001b[43moperators\u001b[49m)\n\u001b[1;32m     52\u001b[0m \u001b[38;5;28;01mfor\u001b[39;00m t \u001b[38;5;129;01min\u001b[39;00m \u001b[38;5;28mrange\u001b[39m(\u001b[38;5;241m1\u001b[39m,T\u001b[38;5;241m+\u001b[39m\u001b[38;5;241m1\u001b[39m):\n\u001b[1;32m     54\u001b[0m     state \u001b[38;5;241m=\u001b[39m fn\u001b[38;5;241m.\u001b[39mapply_U(state, \u001b[38;5;28mself\u001b[39m\u001b[38;5;241m.\u001b[39mgates, \u001b[38;5;28mself\u001b[39m\u001b[38;5;241m.\u001b[39morder, masks_dict, \u001b[38;5;28;01mNone\u001b[39;00m)   \n",
      "\u001b[0;31mAttributeError\u001b[0m: 'Circuit' object has no attribute 'operators'"
     ]
    }
   ],
   "source": [
    "compute_circuit(0 ,0)"
   ]
  },
  {
   "cell_type": "code",
   "execution_count": null,
   "metadata": {},
   "outputs": [],
   "source": []
  },
  {
   "cell_type": "code",
   "execution_count": null,
   "metadata": {},
   "outputs": [],
   "source": []
  }
 ],
 "metadata": {
  "kernelspec": {
   "display_name": "impurity_continuous",
   "language": "python",
   "name": "python3"
  },
  "language_info": {
   "codemirror_mode": {
    "name": "ipython",
    "version": 3
   },
   "file_extension": ".py",
   "mimetype": "text/x-python",
   "name": "python",
   "nbconvert_exporter": "python",
   "pygments_lexer": "ipython3",
   "version": "3.9.21"
  }
 },
 "nbformat": 4,
 "nbformat_minor": 2
}
