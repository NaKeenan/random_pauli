{
 "cells": [
  {
   "cell_type": "code",
   "execution_count": 8,
   "metadata": {},
   "outputs": [],
   "source": [
    "import numpy as np\n",
    "import functions as fn\n",
    "from circuit_obj import Circuit\n",
    "from tqdm import tqdm\n",
    "from itertools import product\n"
   ]
  },
  {
   "cell_type": "code",
   "execution_count": 9,
   "metadata": {},
   "outputs": [],
   "source": [
    "# Define your parameter arrays\n",
    "N = 16\n",
    "T = 10\n",
    "masks_dict = fn.load_mask_memory(N, 2)"
   ]
  },
  {
   "cell_type": "code",
   "execution_count": 10,
   "metadata": {},
   "outputs": [],
   "source": [
    "def initial_state(N, n):\n",
    "    \"\"\"\n",
    "    Generate a random state vector on N qubits with spin up at site n\n",
    "    \"\"\"\n",
    "    up = np.array([0, 1])\n",
    "    if n == 0:\n",
    "        rnd_part = np.random.rand(2**(N - 1)) + 1j * np.random.rand(2**(N - 1))\n",
    "        state = np.kron(up, rnd_part)\n",
    "        state /= np.linalg.norm(state)\n",
    "        return state\n",
    "    elif n == N - 1:\n",
    "        rnd_part = np.random.rand(2**(N - 1)) + 1j * np.random.rand(2**(N - 1))\n",
    "        state = np.kron(rnd_part, up)\n",
    "        state /= np.linalg.norm(state)\n",
    "        return state\n",
    "    part1 = np.random.rand(2**(n)) + 1j * np.random.rand(2**(n))\n",
    "    part2 = np.random.rand(2**(N - n - 1)) + 1j * np.random.rand(2**(N - n - 1))\n",
    "    state = np.kron(part1, np.kron(up, part2))\n",
    "    state /= np.linalg.norm(state)\n",
    "    return state\n",
    "\n",
    "# sanity check :\n",
    "# [np.round(fn.get_magnetization(initial_state(N, idx), N)[idx]) for idx in range(N)]\n",
    "\n",
    "st = initial_state(N, 0)"
   ]
  },
  {
   "cell_type": "code",
   "execution_count": 11,
   "metadata": {},
   "outputs": [
    {
     "data": {
      "text/plain": [
       "(-2.6994877483691653,\n",
       " 0.2407780253979941,\n",
       " -2.968541937516619,\n",
       " 3.1249706593905255,\n",
       " -2.4136436406710136,\n",
       " 2.548105351482853)"
      ]
     },
     "execution_count": 11,
     "metadata": {},
     "output_type": "execute_result"
    }
   ],
   "source": [
    "import json\n",
    "\n",
    "with open('random_archive/angles_N16.json', 'r', encoding='utf-8') as f:\n",
    "    loaded_dict = json.load(f)\n",
    "Jz, θ1, Jx, θ2,θ3,θ4 = loaded_dict[0][0].values()\n",
    "Jz, θ1, Jx, θ2,θ3,θ4"
   ]
  },
  {
   "cell_type": "code",
   "execution_count": 12,
   "metadata": {},
   "outputs": [
    {
     "data": {
      "text/plain": [
       "dict_keys(['Jz', 'θ1', 'Jx', 'θ2', 'θ3', 'θ4'])"
      ]
     },
     "execution_count": 12,
     "metadata": {},
     "output_type": "execute_result"
    }
   ],
   "source": [
    "loaded_dict[0][0].keys()"
   ]
  },
  {
   "cell_type": "code",
   "execution_count": 13,
   "metadata": {},
   "outputs": [],
   "source": [
    "\n",
    "circuits = []\n",
    "circuit_realizations = 1000\n",
    "\n",
    "for circuit_realization in range(circuit_realizations):\n",
    "    gates = []\n",
    "    for n in range(N):\n",
    "        params = loaded_dict[circuit_realization][n]\n",
    "        Jz = params['Jz']\n",
    "        θ1 = params['θ1']\n",
    "        Jx = params['Jx']\n",
    "        θ2 = params['θ2']\n",
    "        θ3 = params['θ3']\n",
    "        θ4 = params['θ4']\n",
    "        gates.append(fn.gate_xyz_disordered(θ1, θ2, Jx, Jx, Jz, θ3, θ4)) # h1, h2, Jx, Jy, Jz, h3, h4\n",
    "    \n",
    "    gates = np.array(gates)\n",
    "    assert len(gates) == N, f\"Expected {N} gates, got {gates.shape}\"\n",
    "\n",
    "    order = fn.gen_gates_order(N)    \n",
    "    circuit = Circuit(N=N, gates=gates, order=order)\n",
    "    circuits.append(circuit)\n",
    "    \n",
    "##############################################################################################\n",
    "\n",
    "def compute_circuit(idx, circuit_real):\n",
    "    circuit = circuits[circuit_real]\n",
    "    state = initial_state(N, idx) # initial_state_test(theta)\n",
    "    return circuit.run(masks_dict, state, T)"
   ]
  },
  {
   "cell_type": "code",
   "execution_count": 14,
   "metadata": {},
   "outputs": [
    {
     "name": "stderr",
     "output_type": "stream",
     "text": [
      "  1%|          | 117/16000 [01:18<2:58:38,  1.48it/s]\n"
     ]
    },
    {
     "ename": "KeyboardInterrupt",
     "evalue": "",
     "output_type": "error",
     "traceback": [
      "\u001b[0;31m---------------------------------------------------------------------------\u001b[0m",
      "\u001b[0;31mKeyboardInterrupt\u001b[0m                         Traceback (most recent call last)",
      "Cell \u001b[0;32mIn[14], line 10\u001b[0m\n\u001b[1;32m      3\u001b[0m     result \u001b[38;5;241m=\u001b[39m np\u001b[38;5;241m.\u001b[39mzeros((N, circuit_realizations, T \u001b[38;5;241m+\u001b[39m \u001b[38;5;241m1\u001b[39m, N), dtype\u001b[38;5;241m=\u001b[39mnp\u001b[38;5;241m.\u001b[39mfloat64)\n\u001b[1;32m      6\u001b[0m \u001b[38;5;28;01mfor\u001b[39;00m idx, circuit_real \u001b[38;5;129;01min\u001b[39;00m tqdm(product(\n\u001b[1;32m      7\u001b[0m         \u001b[38;5;28mrange\u001b[39m(circuit_realizations), \u001b[38;5;66;03m#\u001b[39;00m\n\u001b[1;32m      8\u001b[0m         \u001b[38;5;28mrange\u001b[39m(N), \n\u001b[1;32m      9\u001b[0m     ), total\u001b[38;5;241m=\u001b[39mN \u001b[38;5;241m*\u001b[39m circuit_realizations):\n\u001b[0;32m---> 10\u001b[0m     result[idx, circuit_realization] \u001b[38;5;241m=\u001b[39m \u001b[43mcompute_circuit\u001b[49m\u001b[43m(\u001b[49m\u001b[43midx\u001b[49m\u001b[43m,\u001b[49m\u001b[43m \u001b[49m\u001b[43mcircuit_realization\u001b[49m\u001b[43m)\u001b[49m;\n",
      "Cell \u001b[0;32mIn[13], line 28\u001b[0m, in \u001b[0;36mcompute_circuit\u001b[0;34m(idx, circuit_real)\u001b[0m\n\u001b[1;32m     26\u001b[0m circuit \u001b[38;5;241m=\u001b[39m circuits[circuit_real]\n\u001b[1;32m     27\u001b[0m state \u001b[38;5;241m=\u001b[39m initial_state(N, idx) \u001b[38;5;66;03m# initial_state_test(theta)\u001b[39;00m\n\u001b[0;32m---> 28\u001b[0m \u001b[38;5;28;01mreturn\u001b[39;00m \u001b[43mcircuit\u001b[49m\u001b[38;5;241;43m.\u001b[39;49m\u001b[43mrun\u001b[49m\u001b[43m(\u001b[49m\u001b[43mmasks_dict\u001b[49m\u001b[43m,\u001b[49m\u001b[43m \u001b[49m\u001b[43mstate\u001b[49m\u001b[43m,\u001b[49m\u001b[43m \u001b[49m\u001b[43mT\u001b[49m\u001b[43m)\u001b[49m\n",
      "File \u001b[0;32m~/Development_local/phd/random_pauli/python_statevector_simulation/circuit_obj.py:29\u001b[0m, in \u001b[0;36mCircuit.run\u001b[0;34m(self, masks_dict, state, T)\u001b[0m\n\u001b[1;32m     24\u001b[0m \u001b[38;5;250m\u001b[39m\u001b[38;5;124;03m\"\"\"\u001b[39;00m\n\u001b[1;32m     25\u001b[0m \u001b[38;5;124;03mRun the circuit and calculate the mangetization\u001b[39;00m\n\u001b[1;32m     26\u001b[0m \u001b[38;5;124;03m\"\"\"\u001b[39;00m\n\u001b[1;32m     27\u001b[0m magn_profile \u001b[38;5;241m=\u001b[39m np\u001b[38;5;241m.\u001b[39mzeros((T\u001b[38;5;241m+\u001b[39m\u001b[38;5;241m1\u001b[39m, \u001b[38;5;28mself\u001b[39m\u001b[38;5;241m.\u001b[39mN), dtype\u001b[38;5;241m=\u001b[39mnp\u001b[38;5;241m.\u001b[39mfloat64)\n\u001b[0;32m---> 29\u001b[0m magn_profile[\u001b[38;5;241m0\u001b[39m] \u001b[38;5;241m=\u001b[39m \u001b[43mfn\u001b[49m\u001b[38;5;241;43m.\u001b[39;49m\u001b[43mget_magnetization\u001b[49m\u001b[43m(\u001b[49m\u001b[43mstate\u001b[49m\u001b[43m,\u001b[49m\u001b[43m \u001b[49m\u001b[38;5;28;43mself\u001b[39;49m\u001b[38;5;241;43m.\u001b[39;49m\u001b[43mN\u001b[49m\u001b[43m)\u001b[49m\n\u001b[1;32m     31\u001b[0m \u001b[38;5;28;01mfor\u001b[39;00m t \u001b[38;5;129;01min\u001b[39;00m (\u001b[38;5;28mrange\u001b[39m(\u001b[38;5;241m1\u001b[39m,T\u001b[38;5;241m+\u001b[39m\u001b[38;5;241m1\u001b[39m)):\n\u001b[1;32m     33\u001b[0m     state \u001b[38;5;241m=\u001b[39m fn\u001b[38;5;241m.\u001b[39mapply_U(state, \u001b[38;5;28mself\u001b[39m\u001b[38;5;241m.\u001b[39mgates, \u001b[38;5;28mself\u001b[39m\u001b[38;5;241m.\u001b[39morder, masks_dict, \u001b[38;5;28;01mNone\u001b[39;00m)   \n",
      "File \u001b[0;32m~/Development_local/phd/random_pauli/python_statevector_simulation/functions.py:676\u001b[0m, in \u001b[0;36mget_magnetization\u001b[0;34m(st, N)\u001b[0m\n\u001b[1;32m    673\u001b[0m     st_up[up_m \u001b[38;5;241m==\u001b[39m \u001b[38;5;241m0\u001b[39m] \u001b[38;5;241m=\u001b[39m \u001b[38;5;241m0\u001b[39m\n\u001b[1;32m    674\u001b[0m     st_dw[up_m \u001b[38;5;241m==\u001b[39m \u001b[38;5;241m1\u001b[39m] \u001b[38;5;241m=\u001b[39m \u001b[38;5;241m0\u001b[39m\n\u001b[0;32m--> 676\u001b[0m     res[i] \u001b[38;5;241m=\u001b[39m (st\u001b[38;5;241m.\u001b[39mconj()\u001b[38;5;241m.\u001b[39mdot(\u001b[43mst_up\u001b[49m\u001b[43m \u001b[49m\u001b[38;5;241;43m-\u001b[39;49m\u001b[43m \u001b[49m\u001b[43mst_dw\u001b[49m))\u001b[38;5;241m.\u001b[39mreal\n\u001b[1;32m    678\u001b[0m \u001b[38;5;28;01mreturn\u001b[39;00m res\n",
      "\u001b[0;31mKeyboardInterrupt\u001b[0m: "
     ]
    }
   ],
   "source": [
    "if globals().get('result') is None or globals(\n",
    "    ).get('result').shape != (N, circuit_realizations, T + 1, N):\n",
    "    result = np.zeros((N, circuit_realizations, T + 1, N), dtype=np.float64)\n",
    "\n",
    "\n",
    "for idx, circuit_real in tqdm(product(\n",
    "        range(circuit_realizations), #\n",
    "        range(N), \n",
    "    ), total=N * circuit_realizations):\n",
    "    result[idx, circuit_realization] = compute_circuit(idx, circuit_realization);"
   ]
  },
  {
   "cell_type": "code",
   "execution_count": null,
   "metadata": {},
   "outputs": [],
   "source": [
    "for i in range(N):\n",
    "    for j in range(4):\n",
    "        assert len(masks_dict[i][j]) == 2**N//4, f\"mask {i} {j} has wrong shape: {len(masks_dict[i][j])} vs {2**N//4}\"\n",
    "print(\"All masks have the correct shape.\")"
   ]
  },
  {
   "cell_type": "code",
   "execution_count": null,
   "metadata": {},
   "outputs": [],
   "source": []
  }
 ],
 "metadata": {
  "kernelspec": {
   "display_name": "impurity_continuous",
   "language": "python",
   "name": "python3"
  },
  "language_info": {
   "codemirror_mode": {
    "name": "ipython",
    "version": 3
   },
   "file_extension": ".py",
   "mimetype": "text/x-python",
   "name": "python",
   "nbconvert_exporter": "python",
   "pygments_lexer": "ipython3",
   "version": "3.9.21"
  }
 },
 "nbformat": 4,
 "nbformat_minor": 2
}
