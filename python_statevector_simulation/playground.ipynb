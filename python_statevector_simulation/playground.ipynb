{
 "cells": [
  {
   "cell_type": "code",
   "execution_count": 1,
   "metadata": {},
   "outputs": [],
   "source": [
    "import numpy as np\n",
    "import functions as fn\n",
    "from circuit_obj import Circuit\n",
    "from tqdm import tqdm\n",
    "from itertools import product"
   ]
  },
  {
   "cell_type": "code",
   "execution_count": 2,
   "metadata": {},
   "outputs": [],
   "source": [
    "# Define your parameter arrays\n",
    "N = 16\n",
    "T = 1000\n",
    "masks_dict = fn.load_mask_memory(N, 2)"
   ]
  },
  {
   "cell_type": "code",
   "execution_count": 3,
   "metadata": {},
   "outputs": [],
   "source": [
    "def initial_state(N, n):\n",
    "    \"\"\"\n",
    "    Generate a random state vector on N qubits with spin up at site n\n",
    "    \"\"\"\n",
    "    up = np.array([0, 1])\n",
    "    if n == 0:\n",
    "        rnd_part = np.random.rand(2**(N - 1)) + 1j * np.random.rand(2**(N - 1))\n",
    "        state = np.kron(up, rnd_part)\n",
    "        state /= np.linalg.norm(state)\n",
    "        return state\n",
    "    elif n == N - 1:\n",
    "        rnd_part = np.random.rand(2**(N - 1)) + 1j * np.random.rand(2**(N - 1))\n",
    "        state = np.kron(rnd_part, up)\n",
    "        state /= np.linalg.norm(state)\n",
    "        return state\n",
    "    part1 = np.random.rand(2**(n)) + 1j * np.random.rand(2**(n))\n",
    "    part2 = np.random.rand(2**(N - n - 1)) + 1j * np.random.rand(2**(N - n - 1))\n",
    "    state = np.kron(part1, np.kron(up, part2))\n",
    "    state /= np.linalg.norm(state)\n",
    "    return state\n",
    "\n",
    "# sanity check :\n",
    "# [np.round(fn.get_magnetization(initial_state(N, idx), N)[idx]) for idx in range(N)]\n",
    "\n",
    "st = initial_state(N, 0)"
   ]
  },
  {
   "cell_type": "code",
   "execution_count": 12,
   "metadata": {},
   "outputs": [],
   "source": [
    "import json\n",
    "\n",
    "with open('../random_archive/angles_N16.json', 'r', encoding='utf-8') as f:\n",
    "    loaded_dict = json.load(f)\n",
    "    \n",
    "circuits = []\n",
    "circuit_realizations = 25\n",
    "\n",
    "for circuit_realization in range(circuit_realizations):\n",
    "    gates = []\n",
    "    for n in range(N):\n",
    "        params = loaded_dict[circuit_realization][n]\n",
    "        Jz = params['Jz']; Jx = params['Jx']\n",
    "        θ1 = params['θ1']; θ2 = params['θ2']\n",
    "        θ3 = params['θ3']; θ4 = params['θ4']\n",
    "        gates.append(fn.gate_xyz_disordered(θ1, θ2, Jx/2, -Jx/2, Jz/2, θ3, θ4)) # h1, h2, Jx, Jy, Jz, h3, h4\n",
    "    \n",
    "    gates = np.array(gates)\n",
    "    assert len(gates) == N, f\"Expected {N} gates, got {gates.shape}\"\n",
    "\n",
    "    order = fn.gen_gates_order(N)    \n",
    "    circuit = Circuit(N=N, gates=gates, order=order)\n",
    "    circuits.append(circuit)\n",
    "    \n",
    "##############################################################################################\n",
    "\n",
    "def compute_circuit(idx, circuit_real):\n",
    "    circuit = circuits[circuit_real]\n",
    "    state = initial_state(N, idx) # initial_state_test(theta)\n",
    "    return circuit.run(masks_dict, state, T)"
   ]
  },
  {
   "cell_type": "code",
   "execution_count": 15,
   "metadata": {},
   "outputs": [
    {
     "name": "stderr",
     "output_type": "stream",
     "text": [
      "100%|██████████| 2/2 [00:00<00:00, 18.53it/s]\n"
     ]
    },
    {
     "data": {
      "text/plain": [
       "(65536,)"
      ]
     },
     "execution_count": 15,
     "metadata": {},
     "output_type": "execute_result"
    }
   ],
   "source": [
    "circuits[0].run(masks_dict, initial_state(N, 0), 2)[1].shape"
   ]
  },
  {
   "cell_type": "code",
   "execution_count": 13,
   "metadata": {},
   "outputs": [
    {
     "name": "stdout",
     "output_type": "stream",
     "text": [
      "Computing circuit 0 for initial state 0\n"
     ]
    },
    {
     "name": "stderr",
     "output_type": "stream",
     "text": [
      "100%|██████████| 1000/1000 [00:57<00:00, 17.44it/s]\n"
     ]
    },
    {
     "ename": "IndexError",
     "evalue": "only integers, slices (`:`), ellipsis (`...`), numpy.newaxis (`None`) and integer or boolean arrays are valid indices",
     "output_type": "error",
     "traceback": [
      "\u001b[0;31m---------------------------------------------------------------------------\u001b[0m",
      "\u001b[0;31mIndexError\u001b[0m                                Traceback (most recent call last)",
      "Cell \u001b[0;32mIn[13], line 14\u001b[0m\n\u001b[1;32m      9\u001b[0m \u001b[38;5;28;01mfor\u001b[39;00m idx, circuit_real \u001b[38;5;129;01min\u001b[39;00m (product(\n\u001b[1;32m     10\u001b[0m         \u001b[38;5;28mrange\u001b[39m(N), \n\u001b[1;32m     11\u001b[0m         \u001b[38;5;28mrange\u001b[39m(circuit_realizations), \u001b[38;5;66;03m#\u001b[39;00m\n\u001b[1;32m     12\u001b[0m     )): \u001b[38;5;66;03m#, total=1 * circuit_realizations\u001b[39;00m\n\u001b[1;32m     13\u001b[0m     \u001b[38;5;28mprint\u001b[39m(\u001b[38;5;124mf\u001b[39m\u001b[38;5;124m\"\u001b[39m\u001b[38;5;124mComputing circuit \u001b[39m\u001b[38;5;132;01m{\u001b[39;00mcircuit_real\u001b[38;5;132;01m}\u001b[39;00m\u001b[38;5;124m for initial state \u001b[39m\u001b[38;5;132;01m{\u001b[39;00midx\u001b[38;5;132;01m}\u001b[39;00m\u001b[38;5;124m\"\u001b[39m)\n\u001b[0;32m---> 14\u001b[0m     result[idx, circuit_real], final_sv[idx, circuit] \u001b[38;5;241m=\u001b[39m compute_circuit(idx, circuit_real);\n",
      "\u001b[0;31mIndexError\u001b[0m: only integers, slices (`:`), ellipsis (`...`), numpy.newaxis (`None`) and integer or boolean arrays are valid indices"
     ]
    }
   ],
   "source": [
    "if globals().get('result') is None or globals(\n",
    "    ).get('result').shape != (N, circuit_realizations, T + 1, N):\n",
    "    result = np.zeros((N, circuit_realizations, T + 1, N), dtype=np.float64)\n",
    "\n",
    "if globals().get('final_sv') is None or globals(\n",
    "    ).get('final_sv').shape != (N, circuit_realizations, T + 1, N):\n",
    "    final_sv = np.zeros((N, circuit_realizations, 2**N), dtype=np.complex128)\n",
    "\n",
    "for idx, circuit_real in (product(\n",
    "        range(N), \n",
    "        range(circuit_realizations), #\n",
    "    )): #, total=1 * circuit_realizations\n",
    "    print(f\"Computing circuit {circuit_real} for initial state {idx}\")\n",
    "    result[idx, circuit_real], final_sv[idx, circuit] = compute_circuit(idx, circuit_real);"
   ]
  },
  {
   "cell_type": "code",
   "execution_count": null,
   "metadata": {},
   "outputs": [],
   "source": [
    "# # np.save('result_N16.npy', result)\n",
    "# result = np.load('result_N16.npy')"
   ]
  },
  {
   "cell_type": "code",
   "execution_count": null,
   "metadata": {},
   "outputs": [],
   "source": [
    "with open(\"nathan.txt\", \"r\") as f:\n",
    "    lines = f.readlines()                    # read all lines as strings\n",
    "data =[float(i) for i in lines[0].split(', ')]  # drop blank lines\n",
    "print(data)"
   ]
  },
  {
   "cell_type": "code",
   "execution_count": null,
   "metadata": {},
   "outputs": [],
   "source": [
    "np.array(data).shape"
   ]
  },
  {
   "cell_type": "code",
   "execution_count": null,
   "metadata": {},
   "outputs": [],
   "source": [
    "from matplotlib import pyplot as plt\n",
    "from scipy.ndimage import gaussian_filter\n",
    "\n",
    "%matplotlib osx\n",
    "new_res = np.zeros((T + 1), dtype=np.float64)\n",
    "\n",
    "pts = np.linspace(0, T, 10000)\n",
    "plt.plot(pts, pts**(-.22)/2, color='k', linestyle='--', label=r'$t^{-.22}$')\n",
    "plt.axhline(1/14, color='k', linestyle=':')\n",
    "plt.axhline(1/15, color='k', linestyle=':')\n",
    "plt.axhline(1/16, color='k', linestyle='--')\n",
    "\n",
    "# plt.plot(np.mean([result[i, :, :, i] for i in range(10)], axis=(0,1)), label='Mean Magnetization')\n",
    "plt.plot(gaussian_filter(result[0, 0, :, 0], 10), label='Mean Magnetization')\n",
    "plt.plot(data, label='Nathan Magnetization')\n",
    "plt.xlabel('Time')\n",
    "plt.ylabel('Magnetization')\n",
    "plt.xscale('symlog')\n",
    "plt.legend()\n",
    "# plt.yscale('log')\n"
   ]
  },
  {
   "cell_type": "code",
   "execution_count": null,
   "metadata": {},
   "outputs": [],
   "source": [
    "data[-10:], 1/(13)"
   ]
  },
  {
   "cell_type": "code",
   "execution_count": null,
   "metadata": {},
   "outputs": [],
   "source": [
    "np.mean([result[i, -1, 0, i] for i in range(N)], axis=0)"
   ]
  },
  {
   "cell_type": "code",
   "execution_count": null,
   "metadata": {},
   "outputs": [],
   "source": [
    "[result[i, -1, 0, i] for i in range(N)]"
   ]
  },
  {
   "cell_type": "markdown",
   "metadata": {},
   "source": [
    "### Check that gates match"
   ]
  },
  {
   "cell_type": "code",
   "execution_count": null,
   "metadata": {},
   "outputs": [],
   "source": [
    "import functions as fn\n",
    "import numpy as np\n",
    "sx, sy, sz, id_ = fn.X, fn.Y, fn.Z, fn.I\n",
    "\n",
    "def print_paulis(gave_evo):\n",
    "    PAULI = {'Z': sz, 'Y': sy, '1': id_, 'X': sx, }\n",
    "    for i in PAULI:\n",
    "        pi = PAULI[i]\n",
    "        for j in PAULI:\n",
    "            pj = PAULI[j]; overlap = np.trace(gave_evo @ np.kron(pi, pj))\n",
    "            if np.abs(overlap) > 1e-10:\n",
    "                print(i,j,f' -> {overlap.real:.9f}', sep='')"
   ]
  },
  {
   "cell_type": "code",
   "execution_count": null,
   "metadata": {},
   "outputs": [],
   "source": [
    "with open('../random_archive/angles_N2.json', 'r', encoding='utf-8') as f:\n",
    "    loaded_dict = json.load(f)\n",
    "params = loaded_dict[0][0]\n",
    "Jz = params['Jz']; Jx = params['Jx']\n",
    "θ1 = params['θ1']; θ2 = params['θ2']\n",
    "θ3 = params['θ3']; θ4 = params['θ4']\n",
    "\n",
    "ale = fn.gate_xyz_disordered(θ1, θ2, Jx/2, -Jx/2, Jz/2, θ3, θ4)\n",
    "fn.print_matrix(ale)\n",
    "\n",
    "gate = np.kron(sz, sx)/4\n",
    "print(f'\\n','~'*30,'\\nbefore evolution:\\n', sep='')\n",
    "fn.print_matrix(gate, 2)\n",
    "print_paulis(gate)\n",
    "gave_evo = ale.conj().T @ gate @ ale\n",
    "print(f'\\n','~'*30,'\\nafter evolution:\\n', sep='')\n",
    "fn.print_matrix(gave_evo, 2)\n",
    "print_paulis(gave_evo)"
   ]
  }
 ],
 "metadata": {
  "kernelspec": {
   "display_name": "impurity_continuous",
   "language": "python",
   "name": "python3"
  },
  "language_info": {
   "codemirror_mode": {
    "name": "ipython",
    "version": 3
   },
   "file_extension": ".py",
   "mimetype": "text/x-python",
   "name": "python",
   "nbconvert_exporter": "python",
   "pygments_lexer": "ipython3",
   "version": "3.9.21"
  }
 },
 "nbformat": 4,
 "nbformat_minor": 2
}
