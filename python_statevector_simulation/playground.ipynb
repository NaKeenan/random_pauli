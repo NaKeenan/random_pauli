{
 "cells": [
  {
   "cell_type": "code",
   "execution_count": 16,
   "metadata": {},
   "outputs": [],
   "source": [
    "import numpy as np\n",
    "import functions as fn\n",
    "from circuit_obj import Circuit"
   ]
  },
  {
   "cell_type": "code",
   "execution_count": 23,
   "metadata": {},
   "outputs": [],
   "source": [
    "# Define your parameter arrays\n",
    "N = 24\n",
    "T = 10\n",
    "circuit_realizations = 10\n",
    "masks_dict = fn.load_mask_memory(N, 2)"
   ]
  },
  {
   "cell_type": "code",
   "execution_count": 25,
   "metadata": {},
   "outputs": [],
   "source": [
    "def initial_state(N, n):\n",
    "    \"\"\"\n",
    "    Generate a random state vector on N qubits with spin up at site n\n",
    "    \"\"\"\n",
    "    up = np.array([0, 1])\n",
    "    if n == 0:\n",
    "        rnd_part = np.random.rand(2**(N - 1)) + 1j * np.random.rand(2**(N - 1))\n",
    "        state = np.kron(up, rnd_part)\n",
    "        state /= np.linalg.norm(state)\n",
    "        return state\n",
    "    elif n == N - 1:\n",
    "        rnd_part = np.random.rand(2**(N - 1)) + 1j * np.random.rand(2**(N - 1))\n",
    "        state = np.kron(rnd_part, up)\n",
    "        state /= np.linalg.norm(state)\n",
    "        return state\n",
    "    part1 = np.random.rand(2**(n)) + 1j * np.random.rand(2**(n))\n",
    "    part2 = np.random.rand(2**(N - n - 1)) + 1j * np.random.rand(2**(N - n - 1))\n",
    "    state = np.kron(part1, np.kron(up, part2))\n",
    "    state /= np.linalg.norm(state)\n",
    "    return state\n",
    "\n",
    "# sanity check :\n",
    "# [np.round(fn.get_magnetization(initial_state(N, idx), N)[idx]) for idx in range(N)]\n",
    "\n",
    "st = initial_state(N, 0)"
   ]
  },
  {
   "cell_type": "code",
   "execution_count": 27,
   "metadata": {},
   "outputs": [],
   "source": [
    "import numpy as np\n",
    "from numba import njit, prange\n",
    "\n",
    "def make_z_masks(N):\n",
    "    \"\"\"\n",
    "    Build an array masks[i] of length 2**N where\n",
    "    masks[i][b] = +1 if the b-th basis state has spin up at site i,\n",
    "                 = -1 if spin down.\n",
    "    \"\"\"\n",
    "    dim = 1 << N  # 2**N\n",
    "    masks = np.empty((N, dim), dtype=np.int8)\n",
    "    for i in range(N):\n",
    "        # bit i in b indicates spin-up (1) or spin-down (0)\n",
    "        for b in range(dim):\n",
    "            # extract the i-th bit of b:\n",
    "            masks[i, b] = 1 if ((b >> (N-1-i)) & 1) else -1\n",
    "    return masks\n",
    "\n",
    "@njit(parallel=True)\n",
    "def get_magnetization_numba(st_real, st_imag, masks):\n",
    "    \"\"\"\n",
    "    Compute site magnetizations ⟨σᶻᵢ⟩ for a (possibly complex) state st.\n",
    "    `st_real` and `st_imag` are the real and imaginary parts of the state vector.\n",
    "    `masks` is the int8 array from make_z_masks.\n",
    "    Returns a float64 array of length N.\n",
    "    \"\"\"\n",
    "    N, dim = masks.shape\n",
    "    res = np.zeros(N, np.float64)\n",
    "    # compute |st|^2 once\n",
    "    for i in prange(N):\n",
    "        double_sum = 0.0\n",
    "        for b in range(dim):\n",
    "            # |st_b|^2 * mask_i[b]\n",
    "            prob = st_real[b]*st_real[b] + st_imag[b]*st_imag[b]\n",
    "            double_sum += prob * masks[i, b]\n",
    "        res[i] = double_sum\n",
    "    return res\n",
    "\n",
    "# Wrapper to take a complex array directly:\n",
    "def get_magnetization(st):\n",
    "    N = int(np.log2(st.size))\n",
    "    masks = make_z_masks(N)\n",
    "    return get_magnetization_numba(st.real.astype(np.float64),\n",
    "                                   st.imag.astype(np.float64),\n",
    "                                   masks)\n"
   ]
  },
  {
   "cell_type": "code",
   "execution_count": 28,
   "metadata": {},
   "outputs": [
    {
     "data": {
      "text/plain": [
       "array([ 1.00000000e+00,  2.75785863e-06,  3.26979412e-04,  4.15794962e-04,\n",
       "       -1.42453437e-04, -3.81270700e-04,  1.56931956e-05, -2.93908831e-04,\n",
       "       -9.20937928e-05, -1.32802981e-04, -4.20425707e-04,  1.32342107e-04,\n",
       "       -1.03810100e-04, -1.25128378e-04, -3.62836983e-04,  3.33979876e-04,\n",
       "        3.17493973e-05,  3.48074691e-05, -1.76842559e-04, -1.71354927e-04,\n",
       "        7.52541922e-06,  2.67299384e-04, -1.41352409e-04, -2.83775571e-05])"
      ]
     },
     "execution_count": 28,
     "metadata": {},
     "output_type": "execute_result"
    }
   ],
   "source": [
    "get_magnetization(st)"
   ]
  },
  {
   "cell_type": "code",
   "execution_count": null,
   "metadata": {},
   "outputs": [
    {
     "name": "stdout",
     "output_type": "stream",
     "text": [
      "Generated U1 parameters\n"
     ]
    }
   ],
   "source": [
    "\n",
    "circuits = []\n",
    "circuit_realizations_max = 100\n",
    "\n",
    "h_list_all = np.random.uniform(-np.pi, np.pi, 5*N*circuit_realizations_max).reshape(circuit_realizations_max, N, 5) \n",
    "print('Generated U1 parameters')\n",
    "        \n",
    "\n",
    "for circuit_realization in range(circuit_realizations):\n",
    "    h_list = h_list_all[circuit_realization]\n",
    "    gates = [fn.gen_u1([*h]) for h in h_list]\n",
    "    \n",
    "    assert len(gates) == N, f\"Expected {N} gates, got {h_list.shape}\"\n",
    "\n",
    "    order = fn.gen_gates_order(N)    \n",
    "    circuit = Circuit(N=N, gates=gates, order=order)\n",
    "    circuits.append(circuit)\n",
    "    \n",
    "##############################################################################################\n",
    "\n",
    "def compute_circuit(idx, circuit_real):\n",
    "    circuit = circuits[circuit_real]\n",
    "    state = initial_state(N, idx) # initial_state_test(theta)\n",
    "    return circuit.run(masks_dict, state, T)"
   ]
  },
  {
   "cell_type": "code",
   "execution_count": null,
   "metadata": {},
   "outputs": [
    {
     "name": "stderr",
     "output_type": "stream",
     "text": [
      "100%|██████████| 100/100 [01:18<00:00,  1.28it/s]\n"
     ]
    }
   ],
   "source": [
    "compute_circuit(0, 0);"
   ]
  },
  {
   "cell_type": "code",
   "execution_count": 22,
   "metadata": {},
   "outputs": [
    {
     "name": "stdout",
     "output_type": "stream",
     "text": [
      "All masks have the correct shape.\n"
     ]
    }
   ],
   "source": [
    "for i in range(N):\n",
    "    for j in range(4):\n",
    "        assert len(masks_dict[i][j]) == 2**N//4, f\"mask {i} {j} has wrong shape: {len(masks_dict[i][j])} vs {2**N//4}\"\n",
    "print(\"All masks have the correct shape.\")"
   ]
  },
  {
   "cell_type": "code",
   "execution_count": null,
   "metadata": {},
   "outputs": [],
   "source": []
  }
 ],
 "metadata": {
  "kernelspec": {
   "display_name": "impurity_continuous",
   "language": "python",
   "name": "python3"
  },
  "language_info": {
   "codemirror_mode": {
    "name": "ipython",
    "version": 3
   },
   "file_extension": ".py",
   "mimetype": "text/x-python",
   "name": "python",
   "nbconvert_exporter": "python",
   "pygments_lexer": "ipython3",
   "version": "3.9.21"
  }
 },
 "nbformat": 4,
 "nbformat_minor": 2
}
